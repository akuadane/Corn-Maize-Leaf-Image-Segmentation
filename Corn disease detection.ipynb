{
 "cells": [
  {
   "cell_type": "code",
   "execution_count": 5,
   "id": "160d51d0",
   "metadata": {},
   "outputs": [],
   "source": [
    "from sklearn.neighbors import KNeighborsClassifier\n",
    "from sklearn.naive_bayes import GaussianNB\n",
    "from sklearn.linear_model import LogisticRegression\n",
    "from sklearn.svm import SVC\n",
    "from sklearn.tree import DecisionTreeClassifier\n",
    "from sklearn.ensemble import RandomForestClassifier\n",
    "from sklearn.neural_network import MLPClassifier\n",
    "from sklearn.preprocessing import LabelEncoder\n",
    "from sklearn.model_selection import train_test_split\n",
    "from sklearn.metrics import classification_report\n",
    "from sklearn.metrics import confusion_matrix\n",
    "from PIL import Image\n",
    "from imutils import paths\n",
    "import numpy as np\n",
    "import os\n",
    "import random\n",
    "import cv2\n",
    "import mahotas as mt\n",
    "import matplotlib.pyplot as plt\n",
    "import itertools\n",
    "from sklearn.tree import export_graphviz\n",
    "import pickle"
   ]
  },
  {
   "cell_type": "code",
   "execution_count": 21,
   "id": "27802395",
   "metadata": {},
   "outputs": [],
   "source": [
    "# Feature extract\n",
    "\n",
    "def fd_hu_moments(image):\n",
    "    #image = cv2.cvtColor(image, cv2.COLOR_BGR2GRAY)\n",
    "    feature = cv2.HuMoments(cv2.moments(image)).flatten()\n",
    "    return feature\n",
    "\n",
    "def fd_histogram(image, mask=None):\n",
    "    image = cv2.cvtColor(image, cv2.COLOR_BGR2HSV)\n",
    "    hist = cv2.calcHist([image], [0,1,2], None, [bins, bins, bins], [0,256,0,256,0,256])\n",
    "    cv2.normalize(hist, hist)\n",
    "    return hist.flatten()"
   ]
  },
  {
   "cell_type": "code",
   "execution_count": 22,
   "id": "3bea10a2",
   "metadata": {},
   "outputs": [
    {
     "name": "stdout",
     "output_type": "stream",
     "text": [
      "[INFO] loading images...\n",
      "[INFO] done loading images!\n"
     ]
    }
   ],
   "source": [
    "# Loading images\n",
    "print(\"[INFO] loading images...\")\n",
    "common_rust_img = sorted(list(paths.list_images(\"data/new plant diseases dataset(augmented)/New Plant Diseases Dataset(Augmented)/train/Corn_(maize)___Common_rust_\")))\n",
    "healthy_img = sorted(list(paths.list_images(\"data/new plant diseases dataset(augmented)/New Plant Diseases Dataset(Augmented)/train/Corn_(maize)___healthy\")))\n",
    "print(\"[INFO] done loading images!\")\n",
    "imagePaths = common_rust_img + healthy_img\n",
    "\n",
    "random.seed(42)\n",
    "random.shuffle(imagePaths)\n",
    "\n",
    "data=[]\n",
    "labels=[]\n",
    "features=[]\n",
    "IMAGE_DIMS=(50,50,1)\n",
    "bins = 8"
   ]
  },
  {
   "cell_type": "code",
   "execution_count": 23,
   "id": "fb6e0cd4",
   "metadata": {},
   "outputs": [],
   "source": [
    "# looping over \n",
    "for imagePath in imagePaths:\n",
    "    image = cv2.imread(imagePath)\n",
    "    image = cv2.resize(image,(IMAGE_DIMS[1],IMAGE_DIMS[0]))\n",
    "    \n",
    "    fv_histogram = fd_histogram(image)\n",
    "    \n",
    "    image= cv2.cvtColor(image,cv2.COLOR_BGR2GRAY)\n",
    "    fv_hu_moments = fd_hu_moments(image)\n",
    "    \n",
    "    global_feature = np.hstack([fv_histogram,fv_hu_moments])\n",
    "    data.append(global_feature)\n",
    "    \n",
    "    l = label = imagePath.split(os.path.sep)[-2]\n",
    "    labels.append(l)\n",
    "    "
   ]
  },
  {
   "cell_type": "code",
   "execution_count": 25,
   "id": "330ae191",
   "metadata": {},
   "outputs": [
    {
     "name": "stdout",
     "output_type": "stream",
     "text": [
      "[ 6.13642931e-01  0.00000000e+00  0.00000000e+00  0.00000000e+00\n",
      "  0.00000000e+00  0.00000000e+00  1.31120288e-03  0.00000000e+00\n",
      "  0.00000000e+00  0.00000000e+00  0.00000000e+00  3.93360853e-03\n",
      "  5.76929264e-02  9.44066048e-02  2.62240581e-02  1.31120288e-03\n",
      "  2.62240577e-03  3.93360853e-03  2.62240577e-03  2.88464632e-02\n",
      "  2.41261333e-01  1.66522771e-01  2.22904496e-02  0.00000000e+00\n",
      "  2.62240577e-03  1.31120288e-03  2.62240577e-03  4.45808992e-02\n",
      "  1.52099535e-01  3.80248837e-02  0.00000000e+00  0.00000000e+00\n",
      "  6.55601453e-03  0.00000000e+00  1.31120288e-03  2.75352597e-02\n",
      "  1.70456376e-02  0.00000000e+00  0.00000000e+00  0.00000000e+00\n",
      "  0.00000000e+00  0.00000000e+00  2.62240577e-03  1.31120288e-03\n",
      "  0.00000000e+00  0.00000000e+00  0.00000000e+00  0.00000000e+00\n",
      "  0.00000000e+00  0.00000000e+00  0.00000000e+00  0.00000000e+00\n",
      "  0.00000000e+00  0.00000000e+00  0.00000000e+00  0.00000000e+00\n",
      "  4.85145077e-02  0.00000000e+00  0.00000000e+00  0.00000000e+00\n",
      "  0.00000000e+00  0.00000000e+00  0.00000000e+00  0.00000000e+00\n",
      "  0.00000000e+00  0.00000000e+00  0.00000000e+00  0.00000000e+00\n",
      "  0.00000000e+00  3.93360853e-03  1.18008256e-02  1.31120288e-03\n",
      "  0.00000000e+00  0.00000000e+00  0.00000000e+00  9.17842053e-03\n",
      "  1.90124422e-01  1.96680427e-01  2.49128547e-02  0.00000000e+00\n",
      "  0.00000000e+00  1.31120288e-03  0.00000000e+00  1.31120294e-01\n",
      "  6.03153348e-01  5.37593178e-02  0.00000000e+00  0.00000000e+00\n",
      "  0.00000000e+00  0.00000000e+00  2.09792461e-02  1.54721946e-01\n",
      "  6.68713450e-02  0.00000000e+00  0.00000000e+00  0.00000000e+00\n",
      "  2.62240577e-03  0.00000000e+00  4.98257093e-02  2.22904496e-02\n",
      "  3.93360853e-03  0.00000000e+00  0.00000000e+00  0.00000000e+00\n",
      "  1.31120288e-03  2.62240577e-03  3.93360853e-03  0.00000000e+00\n",
      "  0.00000000e+00  0.00000000e+00  0.00000000e+00  0.00000000e+00\n",
      "  3.93360853e-03  0.00000000e+00  0.00000000e+00  0.00000000e+00\n",
      "  0.00000000e+00  0.00000000e+00  0.00000000e+00  0.00000000e+00\n",
      "  2.09792461e-02  0.00000000e+00  0.00000000e+00  0.00000000e+00\n",
      "  0.00000000e+00  0.00000000e+00  0.00000000e+00  0.00000000e+00\n",
      "  0.00000000e+00  0.00000000e+00  0.00000000e+00  0.00000000e+00\n",
      "  0.00000000e+00  0.00000000e+00  0.00000000e+00  0.00000000e+00\n",
      "  0.00000000e+00  0.00000000e+00  0.00000000e+00  0.00000000e+00\n",
      "  0.00000000e+00  0.00000000e+00  0.00000000e+00  0.00000000e+00\n",
      "  0.00000000e+00  0.00000000e+00  0.00000000e+00  0.00000000e+00\n",
      "  0.00000000e+00  1.31120288e-03  0.00000000e+00  0.00000000e+00\n",
      "  0.00000000e+00  0.00000000e+00  0.00000000e+00  0.00000000e+00\n",
      "  0.00000000e+00  0.00000000e+00  0.00000000e+00  0.00000000e+00\n",
      "  1.31120288e-03  0.00000000e+00  0.00000000e+00  0.00000000e+00\n",
      "  0.00000000e+00  0.00000000e+00  0.00000000e+00  0.00000000e+00\n",
      "  0.00000000e+00  0.00000000e+00  0.00000000e+00  0.00000000e+00\n",
      "  0.00000000e+00  0.00000000e+00  0.00000000e+00  0.00000000e+00\n",
      "  0.00000000e+00  0.00000000e+00  0.00000000e+00  0.00000000e+00\n",
      "  0.00000000e+00  0.00000000e+00  0.00000000e+00  0.00000000e+00\n",
      "  1.70456376e-02  0.00000000e+00  0.00000000e+00  0.00000000e+00\n",
      "  0.00000000e+00  0.00000000e+00  0.00000000e+00  0.00000000e+00\n",
      "  0.00000000e+00  0.00000000e+00  0.00000000e+00  0.00000000e+00\n",
      "  0.00000000e+00  0.00000000e+00  0.00000000e+00  0.00000000e+00\n",
      "  1.31120288e-03  0.00000000e+00  0.00000000e+00  0.00000000e+00\n",
      "  0.00000000e+00  0.00000000e+00  0.00000000e+00  0.00000000e+00\n",
      "  0.00000000e+00  0.00000000e+00  0.00000000e+00  0.00000000e+00\n",
      "  0.00000000e+00  0.00000000e+00  0.00000000e+00  0.00000000e+00\n",
      "  0.00000000e+00  0.00000000e+00  0.00000000e+00  0.00000000e+00\n",
      "  0.00000000e+00  0.00000000e+00  0.00000000e+00  0.00000000e+00\n",
      "  1.04896231e-02  0.00000000e+00  0.00000000e+00  0.00000000e+00\n",
      "  0.00000000e+00  0.00000000e+00  0.00000000e+00  0.00000000e+00\n",
      "  5.24481153e-03  0.00000000e+00  0.00000000e+00  0.00000000e+00\n",
      "  0.00000000e+00  0.00000000e+00  0.00000000e+00  0.00000000e+00\n",
      "  1.31120288e-03  0.00000000e+00  0.00000000e+00  0.00000000e+00\n",
      "  0.00000000e+00  0.00000000e+00  0.00000000e+00  0.00000000e+00\n",
      "  2.62240581e-02  0.00000000e+00  0.00000000e+00  0.00000000e+00\n",
      "  0.00000000e+00  0.00000000e+00  0.00000000e+00  0.00000000e+00\n",
      "  0.00000000e+00  0.00000000e+00  0.00000000e+00  0.00000000e+00\n",
      "  0.00000000e+00  0.00000000e+00  0.00000000e+00  0.00000000e+00\n",
      "  0.00000000e+00  0.00000000e+00  0.00000000e+00  0.00000000e+00\n",
      "  0.00000000e+00  0.00000000e+00  0.00000000e+00  0.00000000e+00\n",
      "  0.00000000e+00  0.00000000e+00  0.00000000e+00  0.00000000e+00\n",
      "  0.00000000e+00  0.00000000e+00  0.00000000e+00  0.00000000e+00\n",
      "  1.31120288e-03  0.00000000e+00  0.00000000e+00  0.00000000e+00\n",
      "  0.00000000e+00  0.00000000e+00  0.00000000e+00  0.00000000e+00\n",
      "  0.00000000e+00  0.00000000e+00  0.00000000e+00  0.00000000e+00\n",
      "  0.00000000e+00  0.00000000e+00  0.00000000e+00  0.00000000e+00\n",
      "  0.00000000e+00  0.00000000e+00  0.00000000e+00  0.00000000e+00\n",
      "  0.00000000e+00  0.00000000e+00  0.00000000e+00  0.00000000e+00\n",
      "  2.62240577e-03  0.00000000e+00  0.00000000e+00  0.00000000e+00\n",
      "  0.00000000e+00  0.00000000e+00  0.00000000e+00  0.00000000e+00\n",
      "  9.17842053e-03  0.00000000e+00  0.00000000e+00  0.00000000e+00\n",
      "  0.00000000e+00  0.00000000e+00  0.00000000e+00  0.00000000e+00\n",
      "  0.00000000e+00  0.00000000e+00  0.00000000e+00  0.00000000e+00\n",
      "  0.00000000e+00  0.00000000e+00  0.00000000e+00  0.00000000e+00\n",
      "  0.00000000e+00  0.00000000e+00  0.00000000e+00  0.00000000e+00\n",
      "  0.00000000e+00  0.00000000e+00  0.00000000e+00  0.00000000e+00\n",
      "  0.00000000e+00  0.00000000e+00  0.00000000e+00  0.00000000e+00\n",
      "  0.00000000e+00  0.00000000e+00  0.00000000e+00  0.00000000e+00\n",
      "  0.00000000e+00  0.00000000e+00  0.00000000e+00  0.00000000e+00\n",
      "  0.00000000e+00  0.00000000e+00  0.00000000e+00  0.00000000e+00\n",
      "  0.00000000e+00  0.00000000e+00  0.00000000e+00  0.00000000e+00\n",
      "  0.00000000e+00  0.00000000e+00  0.00000000e+00  0.00000000e+00\n",
      "  0.00000000e+00  0.00000000e+00  0.00000000e+00  0.00000000e+00\n",
      "  0.00000000e+00  0.00000000e+00  0.00000000e+00  0.00000000e+00\n",
      "  0.00000000e+00  0.00000000e+00  0.00000000e+00  0.00000000e+00\n",
      "  0.00000000e+00  0.00000000e+00  0.00000000e+00  0.00000000e+00\n",
      "  6.55601453e-03  0.00000000e+00  0.00000000e+00  0.00000000e+00\n",
      "  0.00000000e+00  0.00000000e+00  0.00000000e+00  0.00000000e+00\n",
      "  0.00000000e+00  0.00000000e+00  0.00000000e+00  0.00000000e+00\n",
      "  0.00000000e+00  0.00000000e+00  0.00000000e+00  0.00000000e+00\n",
      "  0.00000000e+00  0.00000000e+00  0.00000000e+00  0.00000000e+00\n",
      "  0.00000000e+00  0.00000000e+00  0.00000000e+00  0.00000000e+00\n",
      "  0.00000000e+00  0.00000000e+00  0.00000000e+00  0.00000000e+00\n",
      "  0.00000000e+00  0.00000000e+00  0.00000000e+00  0.00000000e+00\n",
      "  0.00000000e+00  0.00000000e+00  0.00000000e+00  0.00000000e+00\n",
      "  0.00000000e+00  0.00000000e+00  0.00000000e+00  0.00000000e+00\n",
      "  0.00000000e+00  0.00000000e+00  0.00000000e+00  0.00000000e+00\n",
      "  0.00000000e+00  0.00000000e+00  0.00000000e+00  0.00000000e+00\n",
      "  0.00000000e+00  0.00000000e+00  0.00000000e+00  0.00000000e+00\n",
      "  0.00000000e+00  0.00000000e+00  0.00000000e+00  0.00000000e+00\n",
      "  0.00000000e+00  0.00000000e+00  0.00000000e+00  0.00000000e+00\n",
      "  0.00000000e+00  0.00000000e+00  0.00000000e+00  0.00000000e+00\n",
      "  0.00000000e+00  0.00000000e+00  0.00000000e+00  0.00000000e+00\n",
      "  0.00000000e+00  0.00000000e+00  0.00000000e+00  0.00000000e+00\n",
      "  0.00000000e+00  0.00000000e+00  0.00000000e+00  0.00000000e+00\n",
      "  0.00000000e+00  0.00000000e+00  0.00000000e+00  0.00000000e+00\n",
      "  0.00000000e+00  0.00000000e+00  0.00000000e+00  0.00000000e+00\n",
      "  0.00000000e+00  0.00000000e+00  0.00000000e+00  0.00000000e+00\n",
      "  0.00000000e+00  0.00000000e+00  0.00000000e+00  0.00000000e+00\n",
      "  0.00000000e+00  0.00000000e+00  0.00000000e+00  0.00000000e+00\n",
      "  0.00000000e+00  0.00000000e+00  0.00000000e+00  0.00000000e+00\n",
      "  0.00000000e+00  0.00000000e+00  0.00000000e+00  0.00000000e+00\n",
      "  0.00000000e+00  0.00000000e+00  0.00000000e+00  0.00000000e+00\n",
      "  0.00000000e+00  0.00000000e+00  0.00000000e+00  0.00000000e+00\n",
      "  0.00000000e+00  0.00000000e+00  0.00000000e+00  0.00000000e+00\n",
      "  0.00000000e+00  0.00000000e+00  0.00000000e+00  0.00000000e+00\n",
      "  0.00000000e+00  0.00000000e+00  0.00000000e+00  0.00000000e+00\n",
      "  0.00000000e+00  0.00000000e+00  0.00000000e+00  0.00000000e+00\n",
      "  0.00000000e+00  0.00000000e+00  0.00000000e+00  0.00000000e+00\n",
      "  0.00000000e+00  0.00000000e+00  0.00000000e+00  0.00000000e+00\n",
      "  1.21919326e-03  1.04036193e-07  1.36485241e-10  2.02297976e-12\n",
      "  3.33244266e-23  7.20595645e-17 -4.40855977e-24]\n",
      "Corn_(maize)___Common_rust_\n"
     ]
    }
   ],
   "source": [
    "print(data[0])\n",
    "print(labels[0])"
   ]
  },
  {
   "cell_type": "code",
   "execution_count": 6,
   "id": "b655a01d",
   "metadata": {},
   "outputs": [
    {
     "name": "stdout",
     "output_type": "stream",
     "text": [
      "[INFO] constructing training/testing split...\n"
     ]
    }
   ],
   "source": [
    "# partition the data into training and testing splits\n",
    "print(\"[INFO] constructing training/testing split...\")\n",
    "(trainData,testData,trainLabels,testLabels) = train_test_split(data,labels,test_size=0.25,random_state=42)"
   ]
  },
  {
   "cell_type": "code",
   "execution_count": 7,
   "id": "f270c0e6",
   "metadata": {},
   "outputs": [],
   "source": [
    "# define the dictionary of models our script can use\n",
    "\n",
    "models = {\n",
    "    \"knn\": KNeighborsClassifier(n_neighbors=1),\n",
    "    \"naive_bayes\": GaussianNB(),\n",
    "    \"logit\": LogisticRegression(solver=\"lbfgs\",multi_class=\"auto\"),\n",
    "    \"svm\": SVC(kernel=\"poly\",degree=2),\n",
    "    \"random_forest\": RandomForestClassifier(n_estimators=100),\n",
    "}"
   ]
  },
  {
   "cell_type": "code",
   "execution_count": null,
   "id": "acbe4438",
   "metadata": {},
   "outputs": [],
   "source": []
  },
  {
   "cell_type": "code",
   "execution_count": 8,
   "id": "07dd6851",
   "metadata": {},
   "outputs": [
    {
     "name": "stdout",
     "output_type": "stream",
     "text": [
      "[INFO] using 'svm' model\n",
      "[INFO] using 'knn' model\n",
      "[INFO] using 'naive_bayes' model\n",
      "[INFO] using 'logit' model\n",
      "[INFO] using 'random_forest' model\n"
     ]
    },
    {
     "data": {
      "text/plain": [
       "RandomForestClassifier()"
      ]
     },
     "execution_count": 8,
     "metadata": {},
     "output_type": "execute_result"
    }
   ],
   "source": [
    "# train the model\n",
    "print(\"[INFO] using '{}' model\".format(\"svm\"))\n",
    "model = models[\"svm\"]\n",
    "model.fit(trainData,trainLabels)\n",
    "\n",
    "\n",
    "print(\"[INFO] using '{}' model\".format(\"knn\"))\n",
    "modelKnn = models[\"knn\"]\n",
    "modelKnn.fit(trainData,trainLabels)\n",
    "\n",
    "print(\"[INFO] using '{}' model\".format(\"naive_bayes\"))\n",
    "modelGuassian = models[\"naive_bayes\"]\n",
    "modelGuassian.fit(trainData,trainLabels)\n",
    "\n",
    "\n",
    "print(\"[INFO] using '{}' model\".format(\"logit\"))\n",
    "modelLogistic = models[\"logit\"]\n",
    "modelLogistic.fit(trainData,trainLabels)\n",
    "\n",
    "print(\"[INFO] using '{}' model\".format(\"random_forest\"))\n",
    "modelRandomForest = models[\"random_forest\"]\n",
    "modelRandomForest.fit(trainData,trainLabels)\n"
   ]
  },
  {
   "cell_type": "code",
   "execution_count": null,
   "id": "a29a0e35",
   "metadata": {},
   "outputs": [],
   "source": []
  },
  {
   "cell_type": "code",
   "execution_count": 9,
   "id": "fe15df45",
   "metadata": {},
   "outputs": [],
   "source": [
    "common_rust_img_test = sorted(list(paths.list_images(\"data/new plant diseases dataset(augmented)/New Plant Diseases Dataset(Augmented)/valid/Corn_(maize)___Common_rust_\")))\n",
    "healthy_img_test = sorted(list(paths.list_images(\"data/new plant diseases dataset(augmented)/New Plant Diseases Dataset(Augmented)/valid/Corn_(maize)___healthy\")))\n",
    "imagePaths_test = common_rust_img_test + healthy_img_test\n",
    "\n",
    "\n",
    "\n",
    "random.seed(42)\n",
    "random.shuffle(imagePaths_test)\n",
    "datatest=[]\n",
    "labelstest=[]\n",
    "IMAGE_DIMS=(50,50,1)\n",
    "bins = 8"
   ]
  },
  {
   "cell_type": "code",
   "execution_count": 10,
   "id": "c3e50d5d",
   "metadata": {},
   "outputs": [],
   "source": [
    "for imagePath in imagePaths_test:\n",
    "    image = cv2.imread(imagePath)\n",
    "    image = cv2.resize(image,(IMAGE_DIMS[1],IMAGE_DIMS[0]))\n",
    "    \n",
    "    fv_histogram = fd_histogram(image)\n",
    "    \n",
    "    image= cv2.cvtColor(image,cv2.COLOR_BGR2GRAY)\n",
    "    fv_hu_moments = fd_hu_moments(image)\n",
    "    \n",
    "    global_feature = np.hstack([fv_histogram,fv_hu_moments])\n",
    "    datatest.append(global_feature)\n",
    "    \n",
    "    l = label = imagePath.split(os.path.sep)[-2]\n",
    "    labelstest.append(l)\n",
    "    "
   ]
  },
  {
   "cell_type": "code",
   "execution_count": 16,
   "id": "d8203d3a",
   "metadata": {},
   "outputs": [
    {
     "name": "stdout",
     "output_type": "stream",
     "text": [
      "[INFO] evaluating svm...\n",
      "                             precision    recall  f1-score   support\n",
      "\n",
      "Corn_(maize)___Common_rust_       1.00      1.00      1.00       477\n",
      "     Corn_(maize)___healthy       1.00      1.00      1.00       465\n",
      "\n",
      "                   accuracy                           1.00       942\n",
      "                  macro avg       1.00      1.00      1.00       942\n",
      "               weighted avg       1.00      1.00      1.00       942\n",
      "\n",
      "[INFO] evaluating knn...\n",
      "                             precision    recall  f1-score   support\n",
      "\n",
      "Corn_(maize)___Common_rust_       1.00      1.00      1.00       477\n",
      "     Corn_(maize)___healthy       1.00      1.00      1.00       465\n",
      "\n",
      "                   accuracy                           1.00       942\n",
      "                  macro avg       1.00      1.00      1.00       942\n",
      "               weighted avg       1.00      1.00      1.00       942\n",
      "\n",
      "[INFO] evaluating modelGuassian...\n",
      "                             precision    recall  f1-score   support\n",
      "\n",
      "Corn_(maize)___Common_rust_       0.99      1.00      1.00       477\n",
      "     Corn_(maize)___healthy       1.00      0.99      1.00       465\n",
      "\n",
      "                   accuracy                           1.00       942\n",
      "                  macro avg       1.00      1.00      1.00       942\n",
      "               weighted avg       1.00      1.00      1.00       942\n",
      "\n",
      "[INFO] evaluating Logistic...\n",
      "                             precision    recall  f1-score   support\n",
      "\n",
      "Corn_(maize)___Common_rust_       1.00      1.00      1.00       477\n",
      "     Corn_(maize)___healthy       1.00      1.00      1.00       465\n",
      "\n",
      "                   accuracy                           1.00       942\n",
      "                  macro avg       1.00      1.00      1.00       942\n",
      "               weighted avg       1.00      1.00      1.00       942\n",
      "\n",
      "[INFO] evaluating modelGuassian...\n",
      "                             precision    recall  f1-score   support\n",
      "\n",
      "Corn_(maize)___Common_rust_       1.00      1.00      1.00       477\n",
      "     Corn_(maize)___healthy       1.00      1.00      1.00       465\n",
      "\n",
      "                   accuracy                           1.00       942\n",
      "                  macro avg       1.00      1.00      1.00       942\n",
      "               weighted avg       1.00      1.00      1.00       942\n",
      "\n"
     ]
    }
   ],
   "source": [
    "print(\"[INFO] evaluating svm...\")\n",
    "predictionstest = model.predict(datatest)\n",
    "print(classification_report(labelstest,predictionstest))\n",
    "\n",
    "print(\"[INFO] evaluating knn...\")\n",
    "predictionstestKnn = modelKnn.predict(datatest)\n",
    "print(classification_report(labelstest,predictionstestKnn))\n",
    "\n",
    "print(\"[INFO] evaluating modelGuassian...\")\n",
    "predictionstestGuassion = modelGuassian.predict(datatest)\n",
    "print(classification_report(labelstest,predictionstestGuassion))\n",
    "\n",
    "print(\"[INFO] evaluating Logistic...\")\n",
    "predictiontestModelLogistic = modelLogistic.predict(datatest)\n",
    "print(classification_report(labelstest,predictiontestModelLogistic))\n",
    "\n",
    "print(\"[INFO] evaluating modelGuassian...\")\n",
    "predictionstestRandForest = modelRandomForest.predict(datatest)\n",
    "print(classification_report(labelstest,predictionstestRandForest))"
   ]
  },
  {
   "cell_type": "code",
   "execution_count": 24,
   "id": "79dedde2",
   "metadata": {},
   "outputs": [],
   "source": [
    "def plot_confusion_matrix(cm,classes,normalize=False,title='Confusion matrix',cmap=plt.cm.Blues):\n",
    "    plt.imshow(cm,interpolation='nearest',cmap=cmap)\n",
    "    plt.title(title)\n",
    "    plt.colorbar()\n",
    "    tick_marks = np.arange(len(classes))\n",
    "    plt.xticks(tick_marks,classes,rotation=90)\n",
    "    plt.yticks(tick_marks,classes)\n",
    "    \n",
    "    if normalize:\n",
    "        cm = cm.astype('float')/cm.sum(axis=1)[:,np.newaxis]\n",
    "        print(\"Normalized confusion matrix\")\n",
    "    else:\n",
    "        print(\"Confusion matrix, without normalization\")\n",
    "    \n",
    "    print(cm)\n",
    "    \n",
    "    thresh = cm.max()/2.\n",
    "    \n",
    "    for i,j in itertools.product(range(cm.shape[0]),range(cm.shape[1])):\n",
    "        plt.text(j,i,cm[i,j],horizontalalignment=\"center\",color=\"white\" if cm[i,j] > thresh else \"black\")\n",
    "    \n",
    "    plt.tight_layout()\n",
    "    plt.ylabel('True label')\n",
    "    plt.xlabel('Predicted label')\n"
   ]
  },
  {
   "cell_type": "code",
   "execution_count": 25,
   "id": "c88b19ed",
   "metadata": {},
   "outputs": [
    {
     "name": "stdout",
     "output_type": "stream",
     "text": [
      "Confusion matrix, without normalization\n",
      "[[477   0]\n",
      " [  0 465]]\n"
     ]
    },
    {
     "data": {
      "image/png": "[encoded data removed]",
      "text/plain": [
       "<Figure size 432x288 with 2 Axes>"
      ]
     },
     "metadata": {
      "needs_background": "light"
     },
     "output_type": "display_data"
    }
   ],
   "source": [
    "cnf_matrix = confusion_matrix(labelstest, predictionstest)\n",
    "np.set_printoptions(precision=2)\n",
    "plt.figure()\n",
    "plot_confusion_matrix(cnf_matrix,classes=lb.classes_,title=\"svm confusion matrix\")\n",
    "plt.show()"
   ]
  },
  {
   "cell_type": "code",
   "execution_count": 22,
   "id": "1c7d4189",
   "metadata": {},
   "outputs": [],
   "source": [
    "filename = 'final_model.sav'\n",
    "pickle.dump(model, open(filename, 'wb'))"
   ]
  },
  {
   "cell_type": "code",
   "execution_count": null,
   "id": "89c637df",
   "metadata": {},
   "outputs": [],
   "source": []
  },
  {
   "cell_type": "code",
   "execution_count": null,
   "id": "5466c05a",
   "metadata": {},
   "outputs": [],
   "source": []
  }
 ],
 "metadata": {
  "kernelspec": {
   "display_name": "Python 3 (ipykernel)",
   "language": "python",
   "name": "python3"
  },
  "language_info": {
   "codemirror_mode": {
    "name": "ipython",
    "version": 3
   },
   "file_extension": ".py",
   "mimetype": "text/x-python",
   "name": "python",
   "nbconvert_exporter": "python",
   "pygments_lexer": "ipython3",
   "version": "3.8.10"
  }
 },
 "nbformat": 4,
 "nbformat_minor": 5
}
